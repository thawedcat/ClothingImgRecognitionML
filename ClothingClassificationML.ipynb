{
 "cells": [
  {
   "cell_type": "code",
   "execution_count": 47,
   "metadata": {
    "id": "rjXar2Q8bck6"
   },
   "outputs": [],
   "source": [
    "import tensorflow as tf \n",
    "import keras\n",
    "import numpy as np\n",
    "import matplotlib.pyplot as plt"
   ]
  },
  {
   "cell_type": "code",
   "execution_count": 48,
   "metadata": {
    "id": "vDIKhb9wXkle"
   },
   "outputs": [],
   "source": [
    "class myCallback(keras.callbacks.Callback):\n",
    "    def on_epoch_end(self, epochs, logs={}):\n",
    "      lim=0.98\n",
    "      if logs.get('accuracy') >= lim:\n",
    "        self.model.stop_training= True\n",
    "\n",
    "callbacks = myCallback()"
   ]
  },
  {
   "cell_type": "code",
   "execution_count": 49,
   "metadata": {
    "colab": {
     "base_uri": "https://localhost:8080/"
    },
    "id": "yGX7ttqnb_m7",
    "outputId": "7f16ffa1-8828-4897-811c-c8774307cc2f"
   },
   "outputs": [],
   "source": [
    "#uploading the dataset from MNIST\n",
    "fashion_mnist = tf.keras.datasets.fashion_mnist\n",
    "(training_images,training_labels),(test_images, test_labels) = fashion_mnist.load_data()"
   ]
  },
  {
   "cell_type": "code",
   "execution_count": 4,
   "metadata": {
    "colab": {
     "base_uri": "https://localhost:8080/",
     "height": 821
    },
    "id": "V43bz9f0cmms",
    "outputId": "f0cfb9e2-ceb9-4e68-b685-0bfa48675ab7"
   },
   "outputs": [
    {
     "name": "stdout",
     "output_type": "stream",
     "text": [
      "Label:3\n",
      "\n",
      "Image Pixel Array:\n",
      "[[  0   0   0   0   0   0   0   0   0  58 172 137  44  17  30  22 164 195  82   0   0   0   0   0   0   0   0   0]\n",
      " [  0   0   0   0   0   0   0   0   0 239 240 227 254 255 254 210 227 243 216   0   0   0   0   0   0   0   0   0]\n",
      " [  0   0   0   0   0   0   0   2   0 162 230 214 220 216 222 230 215 233 137   0   4   2   0   0   0   0   0   0]\n",
      " [  0   0   0   0   0   0   0   0   0 178 233 217 223 219 222 223 217 231 170   0   0   0   0   0   0   0   0   0]\n",
      " [  0   0   0   0   0   0   0 148  98 215 226 218 222 220 220 223 220 229 245   8  91  65   0   0   0   0   0   0]\n",
      " [  0   0   0   0   0   0   0 227 247 229 217 220 222 219 218 221 222 218 225 230 253 197   0   0   0   0   0   0]\n",
      " [  0   0   0   0   0   0  18 228 229 229 222 214 218 216 215 221 219 219 228 236 229 183   0   0   0   0   0   0]\n",
      " [  0   0   0   0   0   0  70 242 208 108 254 217 224 220 219 224 219 242 187 182 251 210   0   0   0   0   0   0]\n",
      " [  0   0   0   0   0   0 162 244 191  45 255 219 226 220 221 227 221 250 180 122 250 226  27   0   0   0   0   0]\n",
      " [  0   0   0   0   0   0 196 254 244  19 255 213 226 221 220 226 219 253 181 148 255 240 124   0   0   0   0   0]\n",
      " [  0   0   0   0   0   0   0  52  22  42 255 220 226 222 221 226 221 243 223   0  66  26   0   0   0   0   0   0]\n",
      " [  0   0   0   0   0   0   0   0   0  54 255 220 226 222 222 228 224 229 250   0   0   0   0   0   0   0   0   0]\n",
      " [  0   0   0   0   0   0   1   9   0  79 243 220 226 222 223 225 224 226 255   0   0   5   2   0   0   0   0   0]\n",
      " [  0   0   0   0   0   0   0   2   0 119 242 220 226 222 223 224 224 226 230  18   0   2   0   0   0   0   0   0]\n",
      " [  0   0   0   0   0   0   0   0   0 174 239 221 226 221 223 224 226 220 237  46   0   4   0   0   0   0   0   0]\n",
      " [  0   0   0   0   0   0   0   0   0 223 232 221 225 222 222 224 224 219 240  75   0   4   0   0   0   0   0   0]\n",
      " [  0   0   0   0   0   0   2   0   0 217 225 222 227 225 224 228 225 220 242 128   0   3   0   0   0   0   0   0]\n",
      " [  0   0   0   0   0   0   2   0  18 231 222 224 227 225 225 228 225 220 238 176   0   0   0   0   0   0   0   0]\n",
      " [  0   0   0   0   0   0   2   0  77 239 222 227 228 226 225 228 227 223 236 210   0   0   1   0   0   0   0   0]\n",
      " [  0   0   0   0   0   0   3   0 117 242 221 227 226 224 225 230 228 224 228 247   0   0   2   0   0   0   0   0]\n",
      " [  0   0   0   0   0   0   1   0 144 238 219 223 225 223 223 227 225 223 223 223   0   0   2   0   0   0   0   0]\n",
      " [  0   0   0   0   0   0   0   0 201 235 220 225 228 226 224 228 227 225 221 233  39   0   2   0   0   0   0   0]\n",
      " [  0   0   0   0   0   0   0   0 238 230 219 223 226 224 224 228 225 224 219 239  95   0   3   0   0   0   0   0]\n",
      " [  0   0   0   0   0   0   0   0 222 226 221 223 227 225 224 228 224 226 221 240 144   0   1   0   0   0   0   0]\n",
      " [  0   0   0   0   0   0   0  28 232 224 222 224 227 223 224 229 224 227 222 236 192   0   0   0   0   0   0   0]\n",
      " [  0   0   0   0   0   0   0  61 242 222 225 224 224 224 225 228 225 220 222 229 204   0   0   0   0   0   0   0]\n",
      " [  0   0   0   0   0   0   0 121 255 236 245 235 229 229 228 233 238 242 237 239 241  38   0   0   0   0   0   0]\n",
      " [  0   0   0   0   0   0   0  32 128 125 177 203 219 216 217 221 205 184 141 107  63   0   0   0   0   0   0   0]]\n"
     ]
    },
    {
     "data": {
      "text/plain": [
       "<matplotlib.image.AxesImage at 0x1ec0a87f340>"
      ]
     },
     "execution_count": 4,
     "metadata": {},
     "output_type": "execute_result"
    },
    {
     "data": {
      "image/png": "[encoded data removed]",
      "text/plain": [
       "<Figure size 640x480 with 1 Axes>"
      ]
     },
     "metadata": {},
     "output_type": "display_data"
    }
   ],
   "source": [
    "#visualizing the dataset\n",
    "index = np.random.randint(6000)\n",
    "\n",
    "\n",
    "#set numbers of characters per row when printing \n",
    "np.set_printoptions(linewidth=320)\n",
    "\n",
    "#printout the labels and images\n",
    "print(f'Label:{training_labels[index]}')\n",
    "print(f'\\nImage Pixel Array:\\n{training_images[index]}')\n",
    "\n",
    "#visualize\n",
    "plt.imshow(training_images[index])"
   ]
  },
  {
   "cell_type": "code",
   "execution_count": 41,
   "metadata": {
    "id": "Rv6LVeuid9pw"
   },
   "outputs": [],
   "source": [
    "#normalize the pixels values\n",
    "train_images = training_images /255.0\n",
    "\n",
    "test_images = test_images /255.0"
   ]
  },
  {
   "cell_type": "code",
   "execution_count": 50,
   "metadata": {
    "id": "ohXPx1JJefHN"
   },
   "outputs": [],
   "source": [
    "#Bulid the classification model\n",
    "model = keras.Sequential([\n",
    "    keras.layers.Flatten(),\n",
    "    keras.layers.Dense(256,activation=tf.nn.relu),\n",
    "    keras.layers.Dense(10,activation=tf.nn.softmax)\n",
    "])\n"
   ]
  },
  {
   "cell_type": "code",
   "execution_count": 51,
   "metadata": {
    "colab": {
     "base_uri": "https://localhost:8080/"
    },
    "id": "mgy4t3hiffJ7",
    "outputId": "b5bacc64-f204-435a-b394-5938957ec1f3"
   },
   "outputs": [
    {
     "name": "stdout",
     "output_type": "stream",
     "text": [
      "input to softmax function: [[1. 3. 4. 2.]]\n",
      "output of softmax function: [[0.0320586  0.23688282 0.64391426 0.08714432]]\n",
      "sum of outputs: 1.0\n",
      "class with highest probability: 2\n"
     ]
    }
   ],
   "source": [
    "# Declare sample inputs and convert to a tensor\n",
    "inputs = np.array([[1.0, 3.0, 4.0, 2.0]])\n",
    "inputs = tf.convert_to_tensor(inputs)\n",
    "print(f'input to softmax function: {inputs.numpy()}')\n",
    "\n",
    "# Feed the inputs to a softmax activation function\n",
    "outputs = tf.keras.activations.softmax(inputs)\n",
    "print(f'output of softmax function: {outputs.numpy()}')\n",
    "\n",
    "# Get the sum of all values after the softmax\n",
    "sum = tf.reduce_sum(outputs)\n",
    "print(f'sum of outputs: {sum}')\n",
    "\n",
    "# Get the index with highest value\n",
    "prediction = np.argmax(outputs)\n",
    "print(f'class with highest probability: {prediction}')"
   ]
  },
  {
   "cell_type": "code",
   "execution_count": 52,
   "metadata": {
    "colab": {
     "base_uri": "https://localhost:8080/"
    },
    "id": "02pptuzFhLoA",
    "outputId": "0b4323f8-0f8f-4ebb-d90a-2466c368360f",
    "scrolled": true
   },
   "outputs": [
    {
     "name": "stdout",
     "output_type": "stream",
     "text": [
      "Epoch 1/10\n",
      "1875/1875 [==============================] - 5s 2ms/step - loss: 4.0515 - accuracy: 0.7349\n",
      "Epoch 2/10\n",
      "1875/1875 [==============================] - 5s 2ms/step - loss: 0.5865 - accuracy: 0.7942\n",
      "Epoch 3/10\n",
      "1875/1875 [==============================] - 5s 2ms/step - loss: 0.5449 - accuracy: 0.8080\n",
      "Epoch 4/10\n",
      "1875/1875 [==============================] - 4s 2ms/step - loss: 0.5233 - accuracy: 0.8194\n",
      "Epoch 5/10\n",
      "1875/1875 [==============================] - 4s 2ms/step - loss: 0.5008 - accuracy: 0.8269\n",
      "Epoch 6/10\n",
      "1875/1875 [==============================] - 4s 2ms/step - loss: 0.4948 - accuracy: 0.8324\n",
      "Epoch 7/10\n",
      "1875/1875 [==============================] - 4s 2ms/step - loss: 0.4762 - accuracy: 0.8378\n",
      "Epoch 8/10\n",
      "1875/1875 [==============================] - 4s 2ms/step - loss: 0.4746 - accuracy: 0.8392\n",
      "Epoch 9/10\n",
      "1875/1875 [==============================] - 4s 2ms/step - loss: 0.4645 - accuracy: 0.8406\n",
      "Epoch 10/10\n",
      "1875/1875 [==============================] - 5s 2ms/step - loss: 0.4653 - accuracy: 0.8423\n"
     ]
    },
    {
     "data": {
      "text/plain": [
       "<keras.callbacks.History at 0x1ec19a9b040>"
      ]
     },
     "execution_count": 52,
     "metadata": {},
     "output_type": "execute_result"
    }
   ],
   "source": [
    "model.compile(optimizer = 'adam',\n",
    "              loss = 'sparse_categorical_crossentropy',\n",
    "              metrics = ['accuracy']\n",
    "              )\n",
    "model.fit(training_images, training_labels, epochs=10, callbacks=[callbacks])"
   ]
  },
  {
   "cell_type": "code",
   "execution_count": 53,
   "metadata": {
    "colab": {
     "base_uri": "https://localhost:8080/"
    },
    "id": "yGxuuLZTiCqB",
    "outputId": "e4b67cd6-c471-4e13-abcb-5ed2b73f8659"
   },
   "outputs": [
    {
     "name": "stdout",
     "output_type": "stream",
     "text": [
      "313/313 [==============================] - 1s 2ms/step - loss: 0.5465 - accuracy: 0.8219\n"
     ]
    },
    {
     "data": {
      "text/plain": [
       "[0.5465072989463806, 0.8219000101089478]"
      ]
     },
     "execution_count": 53,
     "metadata": {},
     "output_type": "execute_result"
    }
   ],
   "source": [
    "#evaluate the model\n",
    "model.evaluate(test_images, test_labels)"
   ]
  },
  {
   "cell_type": "code",
   "execution_count": 63,
   "metadata": {
    "colab": {
     "base_uri": "https://localhost:8080/",
     "height": 907
    },
    "id": "qJum3HQ9mEiY",
    "outputId": "67a67f08-47f6-4efb-b16a-dbf7b95c9111"
   },
   "outputs": [
    {
     "name": "stdout",
     "output_type": "stream",
     "text": [
      "313/313 [==============================] - 1s 2ms/step\n",
      "[0. 0. 0. 0. 0. 0. 0. 0. 0. 1.]\n",
      "labels: 9\n"
     ]
    },
    {
     "data": {
      "image/png": "[encoded data removed]",
      "text/plain": [
       "<Figure size 640x480 with 1 Axes>"
      ]
     },
     "metadata": {},
     "output_type": "display_data"
    }
   ],
   "source": [
    "classification = model.predict(test_images)\n",
    "index_g = np.random.randint(1000)\n",
    "\n",
    "print(np.round(classification[index_g]))\n",
    "\n",
    "\n",
    "#plt.imshow(test_images[index_g])\n",
    "print(f'labels: {test_labels[index_g]}')\n",
    "image = test_images[index_g]\n",
    "fig = plt.figure\n",
    "plt.imshow(image,cmap='gray')\n",
    "plt.show()\n"
   ]
  },
  {
   "cell_type": "code",
   "execution_count": null,
   "metadata": {
    "id": "SKFnXRyeVkmF"
   },
   "outputs": [],
   "source": []
  },
  {
   "cell_type": "code",
   "execution_count": null,
   "metadata": {
    "id": "rhLytuXiXfdt"
   },
   "outputs": [],
   "source": []
  }
 ],
 "metadata": {
  "colab": {
   "provenance": []
  },
  "kernelspec": {
   "display_name": "Python 3 (ipykernel)",
   "language": "python",
   "name": "python3"
  },
  "language_info": {
   "codemirror_mode": {
    "name": "ipython",
    "version": 3
   },
   "file_extension": ".py",
   "mimetype": "text/x-python",
   "name": "python",
   "nbconvert_exporter": "python",
   "pygments_lexer": "ipython3",
   "version": "3.10.2"
  }
 },
 "nbformat": 4,
 "nbformat_minor": 1
}
