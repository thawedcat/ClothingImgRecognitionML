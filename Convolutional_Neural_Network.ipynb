{
 "cells": [
  {
   "cell_type": "code",
   "execution_count": 1,
   "metadata": {
    "colab": {
     "base_uri": "https://localhost:8080/"
    },
    "id": "Ftj9xfJeyWnl",
    "outputId": "05cf8f3d-2038-4997-916c-4a74e1958e38"
   },
   "outputs": [],
   "source": [
    "import tensorflow as tf\n",
    "import keras \n",
    "import numpy as np \n",
    "import matplotlib.pyplot as plt\n",
    "\n",
    "#downloading dataset\n",
    "fmnist = tf.keras.datasets.fashion_mnist\n",
    "(training_images, training_labels),(test_images, test_labels) = fmnist.load_data()\n",
    "\n",
    "#normalizing pixel value \n",
    "training_images = training_images/255.0\n",
    "test_images = test_images/255.0"
   ]
  },
  {
   "cell_type": "code",
   "execution_count": 12,
   "metadata": {
    "colab": {
     "base_uri": "https://localhost:8080/"
    },
    "id": "LOnR-aqJzbnN",
    "outputId": "399bb04c-270e-4ad5-9b9e-4e40113dc431"
   },
   "outputs": [
    {
     "name": "stdout",
     "output_type": "stream",
     "text": [
      "Model: \"sequential_3\"\n",
      "_________________________________________________________________\n",
      " Layer (type)                Output Shape              Param #   \n",
      "=================================================================\n",
      " conv2d_6 (Conv2D)           (None, 26, 26, 32)        320       \n",
      "                                                                 \n",
      " max_pooling2d_6 (MaxPooling  (None, 13, 13, 32)       0         \n",
      " 2D)                                                             \n",
      "                                                                 \n",
      " conv2d_7 (Conv2D)           (None, 11, 11, 32)        9248      \n",
      "                                                                 \n",
      " max_pooling2d_7 (MaxPooling  (None, 5, 5, 32)         0         \n",
      " 2D)                                                             \n",
      "                                                                 \n",
      " flatten_3 (Flatten)         (None, 800)               0         \n",
      "                                                                 \n",
      " dense_6 (Dense)             (None, 128)               102528    \n",
      "                                                                 \n",
      " dense_7 (Dense)             (None, 10)                1290      \n",
      "                                                                 \n",
      "=================================================================\n",
      "Total params: 113,386\n",
      "Trainable params: 113,386\n",
      "Non-trainable params: 0\n",
      "_________________________________________________________________\n",
      "\n",
      "Model training\n",
      "Epoch 1/5\n",
      "1875/1875 [==============================] - 29s 15ms/step - loss: 0.4711 - accuracy: 0.8273\n",
      "Epoch 2/5\n",
      "1875/1875 [==============================] - 29s 15ms/step - loss: 0.3236 - accuracy: 0.8813\n",
      "Epoch 3/5\n",
      "1875/1875 [==============================] - 33s 17ms/step - loss: 0.2787 - accuracy: 0.8965\n",
      "Epoch 4/5\n",
      "1875/1875 [==============================] - ETA: 0s - loss: 0.2481 - accuracy: 0.9077loss is low,thus cancelling the training\n",
      "1875/1875 [==============================] - 30s 16ms/step - loss: 0.2481 - accuracy: 0.9077\n",
      "\n",
      "Model Evaluating\n",
      "313/313 [==============================] - 2s 5ms/step - loss: 0.2926 - accuracy: 0.8937\n"
     ]
    },
    {
     "data": {
      "text/plain": [
       "[0.29257673025131226, 0.8937000036239624]"
      ]
     },
     "execution_count": 12,
     "metadata": {},
     "output_type": "execute_result"
    }
   ],
   "source": [
    "#Define the model \n",
    "model = tf.keras.Sequential([\n",
    "\n",
    "      #add convolution and max pooling\n",
    "      keras.layers.Conv2D(32,(3,3),activation='relu',input_shape=(28,28,1)),\n",
    "      keras.layers.MaxPooling2D(2,2),\n",
    "      keras.layers.Conv2D(32,(3,3),activation='relu'),\n",
    "      keras.layers.MaxPooling2D(2,2),\n",
    "\n",
    "      keras.layers.Flatten(),\n",
    "      keras.layers.Dense(128, activation='relu'),\n",
    "      keras.layers.Dense(10,activation='softmax')\n",
    "\n",
    "])\n",
    "\n",
    "#print the model summary\n",
    "model.summary()\n",
    "\n",
    "#compile\n",
    "model.compile(optimizer='adam', loss='sparse_categorical_crossentropy', metrics=['accuracy'])\n",
    "\n",
    "#callback funtion\n",
    "class myCallback(keras.callbacks.Callback):\n",
    "  def on_epoch_end(self, epoch, logs={}):\n",
    "    ls = 0.25\n",
    "    if logs.get('loss')<ls:\n",
    "      print(\"loss is low,thus cancelling the training\")\n",
    "      self.model.stop_training = True\n",
    "\n",
    "callbacks = myCallback()\n",
    "\n",
    "#Train the model\n",
    "print(\"\\nModel training\")\n",
    "model.fit(training_images, training_labels, epochs=5, callbacks=[callbacks])\n",
    "\n",
    "#Evaluating\n",
    "print(\"\\nModel Evaluating\")\n",
    "model.evaluate(test_images, test_labels)"
   ]
  },
  {
   "cell_type": "code",
   "execution_count": 13,
   "metadata": {
    "colab": {
     "base_uri": "https://localhost:8080/"
    },
    "id": "_ZmybO_S7Em2",
    "outputId": "738e7698-b1bf-4ff0-fb50-53cb572a230d"
   },
   "outputs": [
    {
     "name": "stdout",
     "output_type": "stream",
     "text": [
      "[9 2 1 1 6 1 4 6 5 7 4 5 7 3 4 1 2 4 8 0 2 5 7 9 1 4 6 0 9 3 8 8 3 3 8 0 7\n",
      " 5 7 9 6 1 3 7 6 7 2 1 2 2 4 4 5 8 2 2 8 4 8 0 7 7 8 5 1 1 2 3 9 8 7 0 2 6\n",
      " 2 3 1 2 8 4 1 8 5 9 5 0 3 2 0 6 5 3 6 7 1 8 0 1 4 2]\n"
     ]
    }
   ],
   "source": [
    "#Visualizing the Convolution and Max Pooling \n",
    "print(test_labels[:100])"
   ]
  },
  {
   "cell_type": "code",
   "execution_count": 14,
   "metadata": {
    "colab": {
     "base_uri": "https://localhost:8080/",
     "height": 476
    },
    "id": "CLqsV1LK7dl4",
    "outputId": "ec016c6c-fd62-4456-9001-5791de29bac0"
   },
   "outputs": [
    {
     "name": "stdout",
     "output_type": "stream",
     "text": [
      "1/1 [==============================] - 0s 85ms/step\n",
      "1/1 [==============================] - 0s 22ms/step\n",
      "1/1 [==============================] - 0s 21ms/step\n",
      "1/1 [==============================] - 0s 24ms/step\n",
      "1/1 [==============================] - 0s 36ms/step\n",
      "1/1 [==============================] - 0s 35ms/step\n",
      "1/1 [==============================] - 0s 29ms/step\n",
      "1/1 [==============================] - 0s 40ms/step\n",
      "1/1 [==============================] - 0s 29ms/step\n",
      "1/1 [==============================] - 0s 30ms/step\n",
      "1/1 [==============================] - 0s 26ms/step\n",
      "1/1 [==============================] - 0s 26ms/step\n"
     ]
    },
    {
     "data": {
      "image/png": "[encoded data removed]",
      "text/plain": [
       "<Figure size 640x480 with 12 Axes>"
      ]
     },
     "metadata": {},
     "output_type": "display_data"
    }
   ],
   "source": [
    "\n",
    "f,axarr = plt.subplots(3,4)\n",
    "\n",
    "FIRST_IMG = 0\n",
    "SECOND_IMG = 5\n",
    "THIRD_IMG = 28\n",
    "CONVOLUTION_NUMBER = 1\n",
    "\n",
    "layer_output = [layer.output for layer in model.layers]\n",
    "activation_model = tf.keras.models.Model(inputs= model.input, outputs = layer_output)\n",
    "\n",
    "for x in range(0,4):\n",
    "  f1 = activation_model.predict(test_images[FIRST_IMG].reshape(1,28,28,1))[x]\n",
    "  axarr[0,x].imshow(f1[0,:,:,CONVOLUTION_NUMBER],cmap='inferno')\n",
    "  axarr[0,x].grid(False)\n",
    "\n",
    "  f2 = activation_model.predict(test_images[SECOND_IMG].reshape(1,28,28,1))[x]\n",
    "  axarr[1,x].imshow(f2[0,:,:,CONVOLUTION_NUMBER],cmap='inferno')\n",
    "  axarr[1,x].grid(False)\n",
    "\n",
    "  f3 = activation_model.predict(test_images[THIRD_IMG].reshape(1,28,28,1))[x]\n",
    "  axarr[2,x].imshow(f3[0,:,:,CONVOLUTION_NUMBER],cmap='inferno')\n",
    "  axarr[2,x].grid(False)\n"
   ]
  }
 ],
 "metadata": {
  "colab": {
   "provenance": []
  },
  "kernelspec": {
   "display_name": "Python 3 (ipykernel)",
   "language": "python",
   "name": "python3"
  },
  "language_info": {
   "codemirror_mode": {
    "name": "ipython",
    "version": 3
   },
   "file_extension": ".py",
   "mimetype": "text/x-python",
   "name": "python",
   "nbconvert_exporter": "python",
   "pygments_lexer": "ipython3",
   "version": "3.10.2"
  }
 },
 "nbformat": 4,
 "nbformat_minor": 1
}
